{
  "nbformat": 4,
  "nbformat_minor": 0,
  "metadata": {
    "colab": {
      "provenance": [],
      "authorship_tag": "ABX9TyN5ZDxpSRxDDp3ycisg7P0c",
      "include_colab_link": true
    },
    "kernelspec": {
      "name": "python3",
      "display_name": "Python 3"
    },
    "language_info": {
      "name": "python"
    }
  },
  "cells": [
    {
      "cell_type": "markdown",
      "metadata": {
        "id": "view-in-github",
        "colab_type": "text"
      },
      "source": [
        "<a href=\"https://colab.research.google.com/github/Etyrr/moje/blob/main/Wprowadzenie_do_%C5%9Brodowiska.ipynb\" target=\"_parent\"><img src=\"https://colab.research.google.com/assets/colab-badge.svg\" alt=\"Open In Colab\"/></a>"
      ]
    },
    {
      "cell_type": "markdown",
      "source": [
        "# **Podstawowe elementy języka python.**\n",
        "\n",
        "# Omawiane elementy\n",
        "\n",
        "---\n",
        "1. Zmienne\n",
        "---\n",
        "2. Listy\n",
        "---\n",
        "3. Pętle\n",
        "---\n",
        "4. Słowniki i krotki\n",
        "---\n",
        "5. Instrukcje warunkowe\n",
        "---\n",
        "6. Funkcje\n",
        "---\n",
        "7. Obsługa plików\n",
        "---\n",
        "8. Obsługa wyjątków\n",
        "---"
      ],
      "metadata": {
        "id": "Quw5psgErgF0"
      }
    },
    {
      "cell_type": "code",
      "source": [
        "imie = \"Eryk\"\n",
        "wiek = 16\n",
        "czy_pel = False"
      ],
      "metadata": {
        "id": "nhQtMRTs3vCw"
      },
      "execution_count": null,
      "outputs": []
    },
    {
      "cell_type": "code",
      "source": [
        "ocen_z_mat = [4 ,5 ,2 ,4 ,2 ,6]"
      ],
      "metadata": {
        "id": "oPC4_TJt4QpV"
      },
      "execution_count": 20,
      "outputs": []
    },
    {
      "cell_type": "code",
      "source": [
        "print(ocen_z_mat[3])\n",
        "ocen_z_mat.append(99)\n",
        "print(ocen_z_mat)"
      ],
      "metadata": {
        "id": "SCrnVAPc4oBr"
      },
      "execution_count": null,
      "outputs": []
    },
    {
      "cell_type": "code",
      "source": [
        "for x in range(0, 19):\n",
        "  print(x)"
      ],
      "metadata": {
        "colab": {
          "base_uri": "https://localhost:8080/"
        },
        "id": "W_v8-HIO5D35",
        "outputId": "b656b5e7-3840-49ff-a71f-4b90f023660c"
      },
      "execution_count": 25,
      "outputs": [
        {
          "output_type": "stream",
          "name": "stdout",
          "text": [
            "0\n",
            "1\n",
            "2\n",
            "3\n",
            "4\n",
            "5\n",
            "6\n",
            "7\n",
            "8\n",
            "9\n",
            "10\n",
            "11\n",
            "12\n",
            "13\n",
            "14\n",
            "15\n",
            "16\n",
            "17\n",
            "18\n"
          ]
        }
      ]
    },
    {
      "cell_type": "code",
      "source": [
        "x = 0\n",
        "while x < 10:\n",
        "    print(x)\n",
        "    x = x + 1"
      ],
      "metadata": {
        "colab": {
          "base_uri": "https://localhost:8080/"
        },
        "id": "cmo4wQAR5Xqb",
        "outputId": "3a41dd74-7ca5-4c04-b410-e3ca9fbc3503"
      },
      "execution_count": 26,
      "outputs": [
        {
          "output_type": "stream",
          "name": "stdout",
          "text": [
            "0\n",
            "1\n",
            "2\n",
            "3\n",
            "4\n",
            "5\n",
            "6\n",
            "7\n",
            "8\n",
            "9\n"
          ]
        }
      ]
    },
    {
      "cell_type": "code",
      "source": [
        "slownik = {\n",
        "    \"kot\": \"cat\",\n",
        "    \"pies\": \"dog\",\n",
        "    \"wąż\": \"snake\"\n",
        "}\n",
        "print(slownik)"
      ],
      "metadata": {
        "colab": {
          "base_uri": "https://localhost:8080/"
        },
        "id": "w6U7Hj0R5-EH",
        "outputId": "c0ea8807-632d-4a64-f45c-10ae5fa2ee7c"
      },
      "execution_count": 28,
      "outputs": [
        {
          "output_type": "stream",
          "name": "stdout",
          "text": [
            "{'kot': 'cat', 'pies': 'dog', 'wąż': 'snake'}\n"
          ]
        }
      ]
    },
    {
      "cell_type": "code",
      "source": [
        "print(slownik.keys())\n",
        "print(\"_____________\")\n",
        "print(slownik.values())"
      ],
      "metadata": {
        "colab": {
          "base_uri": "https://localhost:8080/"
        },
        "id": "GCpNcb816Sul",
        "outputId": "dd5eb5d9-488c-47f6-ad81-a95b8cc316b1"
      },
      "execution_count": 29,
      "outputs": [
        {
          "output_type": "stream",
          "name": "stdout",
          "text": [
            "dict_keys(['kot', 'pies', 'wąż'])\n",
            "_____________\n",
            "dict_values(['cat', 'dog', 'snake'])\n"
          ]
        }
      ]
    },
    {
      "cell_type": "code",
      "source": [
        "wiek_u = 18\n",
        "if wiek_u > 18:\n",
        "  print(\"Jest pełnoletni\")\n",
        "elif wiek_u < 18:\n",
        "  print(\"Nie jest pełnoletni\")\n",
        "else:\n",
        "  print(\"Ma 18 lat\")"
      ],
      "metadata": {
        "colab": {
          "base_uri": "https://localhost:8080/"
        },
        "id": "FMuFVd9Y6icH",
        "outputId": "193ae127-3b67-42c4-ba1a-f223d2224885"
      },
      "execution_count": 33,
      "outputs": [
        {
          "output_type": "stream",
          "name": "stdout",
          "text": [
            "Ma 18 lat\n"
          ]
        }
      ]
    },
    {
      "cell_type": "code",
      "source": [
        "!git add .\n",
        "!git commit -m \"Dodałem kod Python\"\n",
        "!git push origin main"
      ],
      "metadata": {
        "colab": {
          "base_uri": "https://localhost:8080/"
        },
        "id": "68VXTQUa7CE6",
        "outputId": "f59da3ce-e01d-4b1b-db50-38ae2f00daee"
      },
      "execution_count": 34,
      "outputs": [
        {
          "output_type": "stream",
          "name": "stdout",
          "text": [
            "On branch main\n",
            "Your branch is up to date with 'origin/main'.\n",
            "\n",
            "nothing to commit, working tree clean\n",
            "Everything up-to-date\n"
          ]
        }
      ]
    }
  ]
}